{
 "cells": [
  {
   "cell_type": "code",
   "execution_count": 7,
   "metadata": {
    "collapsed": true
   },
   "outputs": [],
   "source": [
    "import pandas as pd\n",
    "import os\n",
    "import seaborn as sns\n",
    "import numpy as np\n",
    "import matplotlib.pyplot as plt\n",
    "import matplotlib.patches as mpatches\n"
   ]
  },
  {
   "cell_type": "markdown",
   "source": [
    "# KPI 2: Percentage of Normal Users that are above the belief threshold of 75\n",
    "\n",
    "### Loading the results\n"
   ],
   "metadata": {
    "collapsed": false,
    "pycharm": {
     "name": "#%% md\n"
    }
   }
  },
  {
   "cell_type": "code",
   "execution_count": 8,
   "outputs": [],
   "source": [
    "root_dir = os.path.abspath(os.curdir)  # Doesn't work as intended. Needs fix below.\n",
    "root_dir = root_dir[:-9]\n",
    "results_dir = root_dir + \"/results/\"\n",
    "\n",
    "file_name = \"KPI_2_{'NormalUser': 1.0, 'Disinformer': 0.0}.csv\"\n",
    "# file_name = \"KPI_2_{'NormalUser': 0.95, 'Disinformer': 0.05}.csv\"\n",
    "# file_name = \"KPI_2_{'NormalUser': 0.8, 'Disinformer': 0.2}.csv\"\n",
    "# file_name = \"KPI_2_{'NormalUser': 0.25, 'Disinformer': 0.75}.csv\"\n",
    "\n",
    "file_dir = results_dir + file_name\n",
    "\n",
    "data = pd.read_csv(file_dir)"
   ],
   "metadata": {
    "collapsed": false,
    "pycharm": {
     "name": "#%%\n"
    }
   }
  },
  {
   "cell_type": "code",
   "execution_count": 9,
   "outputs": [
    {
     "data": {
      "text/plain": "   Unnamed: 0  Replication ((0.0, <SelectAgentsBy.RANDOM: 0>), True)  \\\n0           0            0                            (0.251, 0.251)   \n1           1            1                            (0.262, 0.262)   \n2           2            2                            (0.255, 0.255)   \n3           3            3                            (0.241, 0.241)   \n4           4            4                            (0.245, 0.245)   \n\n  ((0.0, <SelectAgentsBy.RANDOM: 0>), False)  \\\n0                             (0.264, 0.264)   \n1                             (0.261, 0.261)   \n2                             (0.253, 0.253)   \n3                             (0.271, 0.271)   \n4                             (0.255, 0.255)   \n\n  ((0.1, <SelectAgentsBy.RANDOM: 0>), True)  \\\n0                            (0.234, 0.234)   \n1                            (0.255, 0.255)   \n2                            (0.252, 0.252)   \n3                            (0.279, 0.279)   \n4                            (0.257, 0.257)   \n\n  ((0.1, <SelectAgentsBy.RANDOM: 0>), False)  \\\n0                             (0.248, 0.248)   \n1                             (0.247, 0.247)   \n2                             (0.241, 0.241)   \n3                             (0.269, 0.269)   \n4                             (0.267, 0.267)   \n\n  ((0.25, <SelectAgentsBy.RANDOM: 0>), True)  \\\n0                             (0.259, 0.259)   \n1                             (0.267, 0.267)   \n2                             (0.237, 0.237)   \n3                             (0.264, 0.264)   \n4                             (0.272, 0.272)   \n\n  ((0.25, <SelectAgentsBy.RANDOM: 0>), False)  \\\n0                                (0.23, 0.23)   \n1                              (0.266, 0.266)   \n2                              (0.251, 0.251)   \n3                              (0.253, 0.253)   \n4                              (0.261, 0.261)   \n\n  ((0.9, <SelectAgentsBy.RANDOM: 0>), True)  \\\n0                            (0.273, 0.273)   \n1                            (0.228, 0.228)   \n2                            (0.224, 0.224)   \n3                            (0.228, 0.228)   \n4                              (0.27, 0.27)   \n\n  ((0.9, <SelectAgentsBy.RANDOM: 0>), False)  \n0                             (0.259, 0.259)  \n1                             (0.265, 0.265)  \n2                               (0.25, 0.25)  \n3                             (0.254, 0.254)  \n4                             (0.257, 0.257)  ",
      "text/html": "<div>\n<style scoped>\n    .dataframe tbody tr th:only-of-type {\n        vertical-align: middle;\n    }\n\n    .dataframe tbody tr th {\n        vertical-align: top;\n    }\n\n    .dataframe thead th {\n        text-align: right;\n    }\n</style>\n<table border=\"1\" class=\"dataframe\">\n  <thead>\n    <tr style=\"text-align: right;\">\n      <th></th>\n      <th>Unnamed: 0</th>\n      <th>Replication</th>\n      <th>((0.0, &lt;SelectAgentsBy.RANDOM: 0&gt;), True)</th>\n      <th>((0.0, &lt;SelectAgentsBy.RANDOM: 0&gt;), False)</th>\n      <th>((0.1, &lt;SelectAgentsBy.RANDOM: 0&gt;), True)</th>\n      <th>((0.1, &lt;SelectAgentsBy.RANDOM: 0&gt;), False)</th>\n      <th>((0.25, &lt;SelectAgentsBy.RANDOM: 0&gt;), True)</th>\n      <th>((0.25, &lt;SelectAgentsBy.RANDOM: 0&gt;), False)</th>\n      <th>((0.9, &lt;SelectAgentsBy.RANDOM: 0&gt;), True)</th>\n      <th>((0.9, &lt;SelectAgentsBy.RANDOM: 0&gt;), False)</th>\n    </tr>\n  </thead>\n  <tbody>\n    <tr>\n      <th>0</th>\n      <td>0</td>\n      <td>0</td>\n      <td>(0.251, 0.251)</td>\n      <td>(0.264, 0.264)</td>\n      <td>(0.234, 0.234)</td>\n      <td>(0.248, 0.248)</td>\n      <td>(0.259, 0.259)</td>\n      <td>(0.23, 0.23)</td>\n      <td>(0.273, 0.273)</td>\n      <td>(0.259, 0.259)</td>\n    </tr>\n    <tr>\n      <th>1</th>\n      <td>1</td>\n      <td>1</td>\n      <td>(0.262, 0.262)</td>\n      <td>(0.261, 0.261)</td>\n      <td>(0.255, 0.255)</td>\n      <td>(0.247, 0.247)</td>\n      <td>(0.267, 0.267)</td>\n      <td>(0.266, 0.266)</td>\n      <td>(0.228, 0.228)</td>\n      <td>(0.265, 0.265)</td>\n    </tr>\n    <tr>\n      <th>2</th>\n      <td>2</td>\n      <td>2</td>\n      <td>(0.255, 0.255)</td>\n      <td>(0.253, 0.253)</td>\n      <td>(0.252, 0.252)</td>\n      <td>(0.241, 0.241)</td>\n      <td>(0.237, 0.237)</td>\n      <td>(0.251, 0.251)</td>\n      <td>(0.224, 0.224)</td>\n      <td>(0.25, 0.25)</td>\n    </tr>\n    <tr>\n      <th>3</th>\n      <td>3</td>\n      <td>3</td>\n      <td>(0.241, 0.241)</td>\n      <td>(0.271, 0.271)</td>\n      <td>(0.279, 0.279)</td>\n      <td>(0.269, 0.269)</td>\n      <td>(0.264, 0.264)</td>\n      <td>(0.253, 0.253)</td>\n      <td>(0.228, 0.228)</td>\n      <td>(0.254, 0.254)</td>\n    </tr>\n    <tr>\n      <th>4</th>\n      <td>4</td>\n      <td>4</td>\n      <td>(0.245, 0.245)</td>\n      <td>(0.255, 0.255)</td>\n      <td>(0.257, 0.257)</td>\n      <td>(0.267, 0.267)</td>\n      <td>(0.272, 0.272)</td>\n      <td>(0.261, 0.261)</td>\n      <td>(0.27, 0.27)</td>\n      <td>(0.257, 0.257)</td>\n    </tr>\n  </tbody>\n</table>\n</div>"
     },
     "execution_count": 9,
     "metadata": {},
     "output_type": "execute_result"
    }
   ],
   "source": [
    "data.head(5)"
   ],
   "metadata": {
    "collapsed": false,
    "pycharm": {
     "name": "#%%\n"
    }
   }
  },
  {
   "cell_type": "code",
   "execution_count": 10,
   "outputs": [],
   "source": [
    "data.rename({\"Unnamed: 0\":\"a\"}, axis=\"columns\", inplace=True)\n",
    "data.drop([\"a\", \"Replication\"], axis=1, inplace=True)\n",
    "data.head(5)\n",
    "\n",
    "# Rename columns\n",
    "# column_names = [\"0%_True\", \"0%_False\",\"0%_True\", \"0%_False\",\"0%_True\", \"0%_False\",\"0%_True\", \"0%_False\",]\n",
    "data.rename({\"((0.0, <SelectAgentsBy.RANDOM: 0>), True)\":\"0%,\\nR\",\n",
    "             \"((0.0, <SelectAgentsBy.RANDOM: 0>), False)\":\"0%,\\n–\",\n",
    "             \"((0.1, <SelectAgentsBy.RANDOM: 0>), True)\":\"10%,\\nR\",\n",
    "             \"((0.1, <SelectAgentsBy.RANDOM: 0>), False)\":\"10%,\\n–\",\n",
    "             \"((0.25, <SelectAgentsBy.RANDOM: 0>), True)\":\"25%,\\nR\",\n",
    "             \"((0.25, <SelectAgentsBy.RANDOM: 0>), False)\":\"25%,\\n–\",\n",
    "             \"((0.9, <SelectAgentsBy.RANDOM: 0>), True)\":\"90%,\\nR\",\n",
    "             \"((0.9, <SelectAgentsBy.RANDOM: 0>), False)\":\"90%,\\n–\"}, axis=\"columns\", inplace=True)\n",
    "\n",
    "\n",
    "# Switch Columns (first w/o ranking, then w/ranking)\n",
    "data = data[[\"0%,\\n–\", \"0%,\\nR\",\n",
    "             \"10%,\\n–\", \"10%,\\nR\",\n",
    "             \"25%,\\n–\", \"25%,\\nR\",\n",
    "             \"90%,\\n–\", \"90%,\\nR\",]]\n"
   ],
   "metadata": {
    "collapsed": false,
    "pycharm": {
     "name": "#%%\n"
    }
   }
  },
  {
   "cell_type": "code",
   "execution_count": 11,
   "outputs": [
    {
     "data": {
      "text/plain": "           0%,\\n–          0%,\\nR         10%,\\n–         10%,\\nR  \\\n0  (0.264, 0.264)  (0.251, 0.251)  (0.248, 0.248)  (0.234, 0.234)   \n1  (0.261, 0.261)  (0.262, 0.262)  (0.247, 0.247)  (0.255, 0.255)   \n2  (0.253, 0.253)  (0.255, 0.255)  (0.241, 0.241)  (0.252, 0.252)   \n3  (0.271, 0.271)  (0.241, 0.241)  (0.269, 0.269)  (0.279, 0.279)   \n4  (0.255, 0.255)  (0.245, 0.245)  (0.267, 0.267)  (0.257, 0.257)   \n\n          25%,\\n–         25%,\\nR         90%,\\n–         90%,\\nR  \n0    (0.23, 0.23)  (0.259, 0.259)  (0.259, 0.259)  (0.273, 0.273)  \n1  (0.266, 0.266)  (0.267, 0.267)  (0.265, 0.265)  (0.228, 0.228)  \n2  (0.251, 0.251)  (0.237, 0.237)    (0.25, 0.25)  (0.224, 0.224)  \n3  (0.253, 0.253)  (0.264, 0.264)  (0.254, 0.254)  (0.228, 0.228)  \n4  (0.261, 0.261)  (0.272, 0.272)  (0.257, 0.257)    (0.27, 0.27)  ",
      "text/html": "<div>\n<style scoped>\n    .dataframe tbody tr th:only-of-type {\n        vertical-align: middle;\n    }\n\n    .dataframe tbody tr th {\n        vertical-align: top;\n    }\n\n    .dataframe thead th {\n        text-align: right;\n    }\n</style>\n<table border=\"1\" class=\"dataframe\">\n  <thead>\n    <tr style=\"text-align: right;\">\n      <th></th>\n      <th>0%,\\n–</th>\n      <th>0%,\\nR</th>\n      <th>10%,\\n–</th>\n      <th>10%,\\nR</th>\n      <th>25%,\\n–</th>\n      <th>25%,\\nR</th>\n      <th>90%,\\n–</th>\n      <th>90%,\\nR</th>\n    </tr>\n  </thead>\n  <tbody>\n    <tr>\n      <th>0</th>\n      <td>(0.264, 0.264)</td>\n      <td>(0.251, 0.251)</td>\n      <td>(0.248, 0.248)</td>\n      <td>(0.234, 0.234)</td>\n      <td>(0.23, 0.23)</td>\n      <td>(0.259, 0.259)</td>\n      <td>(0.259, 0.259)</td>\n      <td>(0.273, 0.273)</td>\n    </tr>\n    <tr>\n      <th>1</th>\n      <td>(0.261, 0.261)</td>\n      <td>(0.262, 0.262)</td>\n      <td>(0.247, 0.247)</td>\n      <td>(0.255, 0.255)</td>\n      <td>(0.266, 0.266)</td>\n      <td>(0.267, 0.267)</td>\n      <td>(0.265, 0.265)</td>\n      <td>(0.228, 0.228)</td>\n    </tr>\n    <tr>\n      <th>2</th>\n      <td>(0.253, 0.253)</td>\n      <td>(0.255, 0.255)</td>\n      <td>(0.241, 0.241)</td>\n      <td>(0.252, 0.252)</td>\n      <td>(0.251, 0.251)</td>\n      <td>(0.237, 0.237)</td>\n      <td>(0.25, 0.25)</td>\n      <td>(0.224, 0.224)</td>\n    </tr>\n    <tr>\n      <th>3</th>\n      <td>(0.271, 0.271)</td>\n      <td>(0.241, 0.241)</td>\n      <td>(0.269, 0.269)</td>\n      <td>(0.279, 0.279)</td>\n      <td>(0.253, 0.253)</td>\n      <td>(0.264, 0.264)</td>\n      <td>(0.254, 0.254)</td>\n      <td>(0.228, 0.228)</td>\n    </tr>\n    <tr>\n      <th>4</th>\n      <td>(0.255, 0.255)</td>\n      <td>(0.245, 0.245)</td>\n      <td>(0.267, 0.267)</td>\n      <td>(0.257, 0.257)</td>\n      <td>(0.261, 0.261)</td>\n      <td>(0.272, 0.272)</td>\n      <td>(0.257, 0.257)</td>\n      <td>(0.27, 0.27)</td>\n    </tr>\n  </tbody>\n</table>\n</div>"
     },
     "execution_count": 11,
     "metadata": {},
     "output_type": "execute_result"
    }
   ],
   "source": [
    "data.head(5)"
   ],
   "metadata": {
    "collapsed": false,
    "pycharm": {
     "name": "#%%\n"
    }
   }
  },
  {
   "cell_type": "code",
   "execution_count": 11,
   "outputs": [],
   "source": [
    "\n",
    "#### Challenges\n",
    "# - Data seems very boring. (basically no changes between before/after)\n",
    "# - Dataframe not in right shape.\n",
    "\n",
    "# Because might require sth like:\n",
    "# x = policy\n",
    "# y = proportion of agents with belief>75\n",
    "# hue = before, after\n",
    "\n",
    "# x = df.iloc[:,1][0]\n",
    "# 1. change dataframe?\n",
    "#     get avg before, after over 50 replications?\n",
    "#     or make boxplots before & after?\n",
    "\n",
    "\n",
    "\n",
    "\n",
    "\n",
    "\n",
    "\n",
    "\n",
    "\n",
    "\n",
    "\n",
    "\n",
    "\n",
    "\n",
    "\n",
    "\n",
    "\n",
    "\n"
   ],
   "metadata": {
    "collapsed": false,
    "pycharm": {
     "name": "#%%\n"
    }
   }
  },
  {
   "cell_type": "markdown",
   "source": [
    "# old"
   ],
   "metadata": {
    "collapsed": false,
    "pycharm": {
     "name": "#%% md\n"
    }
   },
   "execution_count": 12
  },
  {
   "cell_type": "code",
   "execution_count": null,
   "outputs": [],
   "source": [
    "# plt.figure(figsize=(14,14))\n",
    "#\n",
    "#\n",
    "#\n",
    "# # x: before/after\n",
    "# # data: always 100 %\n",
    "#\n",
    "# # bar chart 1 -> top bars (group of 'smoker=No')\n",
    "# bar1 = sns.barplot(x=,  y=\"percentage above threshold (75)\", data=100, color='darkblue')\n",
    "#\n",
    "# # bar chart 2 -> bottom bars (group of 'smoker=Yes')\n",
    "# bar2 = sns.barplot(x=\"day\", y=\"total_bill\", data=smoker, color='lightblue')\n"
   ],
   "metadata": {
    "collapsed": false,
    "pycharm": {
     "name": "#%%\n"
    }
   }
  }
 ],
 "metadata": {
  "kernelspec": {
   "display_name": "Python 3",
   "language": "python",
   "name": "python3"
  },
  "language_info": {
   "codemirror_mode": {
    "name": "ipython",
    "version": 2
   },
   "file_extension": ".py",
   "mimetype": "text/x-python",
   "name": "python",
   "nbconvert_exporter": "python",
   "pygments_lexer": "ipython2",
   "version": "2.7.6"
  }
 },
 "nbformat": 4,
 "nbformat_minor": 0
}