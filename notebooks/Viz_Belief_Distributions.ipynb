{
 "cells": [
  {
   "cell_type": "code",
   "execution_count": 2,
   "metadata": {
    "collapsed": true
   },
   "outputs": [],
   "source": [
    "import pandas as pd\n",
    "import os\n",
    "import seaborn as sns\n",
    "import numpy as np\n",
    "from matplotlib import pyplot as plt\n"
   ]
  },
  {
   "cell_type": "markdown",
   "source": [
    "### Loading data\n"
   ],
   "metadata": {
    "collapsed": false
   }
  },
  {
   "cell_type": "code",
   "execution_count": 3,
   "outputs": [],
   "source": [
    "root_dir = os.path.abspath(os.curdir)  # Doesn't work as intended. Needs fix below.\n",
    "root_dir = root_dir[:-9]\n",
    "results_dir = root_dir + \"/results/\"\n",
    "file_name = \"belief_distributions_before_after.csv\"\n",
    "# file_name = \"belief_distr_{'NormalUser': 1.0, 'Disinformer': 0.0}.csv\"\n",
    "# file_name = \"belief_distr_{'NormalUser': 0.99, 'Disinformer': 0.01}.csv\"\n",
    "# file_name = \"belief_distr_{'NormalUser': 0.98, 'Disinformer': 0.02}.csv\"\n",
    "# file_name = \"belief_distr_{'NormalUser': 0.95, 'Disinformer': 0.05}.csv\"\n",
    "\n",
    "file_dir = results_dir + file_name\n",
    "\n",
    "data = pd.read_csv(file_dir)\n"
   ],
   "metadata": {
    "collapsed": false,
    "pycharm": {
     "name": "#%%\n"
    }
   }
  },
  {
   "cell_type": "code",
   "execution_count": 4,
   "outputs": [
    {
     "data": {
      "text/plain": "   Unnamed: 0  Replication          ((0.0, <SelectAgentsBy.RANDOM: 0>), True)  \\\n0           0            0  ([16, 59, 60, 83, 67, 59, 81, 48, 2, 90, 39, 1...   \n1           1            1  ([50, 48, 65, 70, 51, 35, 78, 8, 33, 79, 43, 9...   \n2           2            2  ([21, 92, 89, 77, 38, 37, 24, 86, 18, 13, 37, ...   \n\n          ((0.0, <SelectAgentsBy.RANDOM: 0>), False)  \\\n0  ([63, 83, 68, 89, 6, 66, 82, 1, 72, 69, 31, 10...   \n1  ([23, 54, 56, 33, 52, 85, 96, 3, 27, 65, 32, 6...   \n2  ([32, 6, 60, 25, 86, 19, 75, 58, 97, 100, 63, ...   \n\n           ((0.1, <SelectAgentsBy.RANDOM: 0>), True)  \\\n0  ([14, 71, 61, 86, 100, 60, 17, 1, 0, 21, 46, 9...   \n1  ([89, 100, 67, 97, 24, 26, 7, 96, 85, 43, 56, ...   \n2  ([50, 18, 38, 52, 8, 51, 28, 6, 96, 13, 42, 31...   \n\n          ((0.1, <SelectAgentsBy.RANDOM: 0>), False)  \\\n0  ([34, 43, 27, 1, 76, 20, 90, 6, 78, 96, 4, 75,...   \n1  ([90, 26, 94, 95, 86, 62, 71, 47, 44, 72, 59, ...   \n2  ([41, 76, 6, 53, 32, 38, 43, 46, 51, 38, 98, 6...   \n\n          ((0.25, <SelectAgentsBy.RANDOM: 0>), True)  \\\n0  ([72, 81, 76, 76, 79, 5, 12, 49, 20, 90, 60, 5...   \n1  ([22, 77, 92, 98, 7, 44, 26, 7, 73, 80, 79, 33...   \n2  ([76, 38, 64, 68, 63, 89, 43, 97, 75, 39, 81, ...   \n\n         ((0.25, <SelectAgentsBy.RANDOM: 0>), False)  \\\n0  ([9, 38, 42, 99, 17, 66, 48, 3, 87, 0, 33, 31,...   \n1  ([85, 69, 8, 5, 14, 82, 41, 91, 84, 83, 48, 10...   \n2  ([31, 37, 90, 30, 42, 22, 0, 84, 57, 52, 47, 1...   \n\n           ((0.9, <SelectAgentsBy.RANDOM: 0>), True)  \\\n0  ([84, 16, 74, 14, 68, 79, 96, 97, 6, 6, 9, 1, ...   \n1  ([23, 55, 49, 42, 40, 92, 55, 55, 16, 26, 94, ...   \n2  ([44, 3, 21, 47, 90, 68, 37, 83, 33, 32, 52, 0...   \n\n          ((0.9, <SelectAgentsBy.RANDOM: 0>), False)  \n0  ([72, 74, 14, 98, 83, 28, 58, 20, 38, 66, 2, 0...  \n1  ([0, 7, 51, 80, 81, 59, 84, 35, 3, 51, 46, 25,...  \n2  ([67, 3, 55, 36, 57, 23, 81, 28, 54, 4, 87, 51...  ",
      "text/html": "<div>\n<style scoped>\n    .dataframe tbody tr th:only-of-type {\n        vertical-align: middle;\n    }\n\n    .dataframe tbody tr th {\n        vertical-align: top;\n    }\n\n    .dataframe thead th {\n        text-align: right;\n    }\n</style>\n<table border=\"1\" class=\"dataframe\">\n  <thead>\n    <tr style=\"text-align: right;\">\n      <th></th>\n      <th>Unnamed: 0</th>\n      <th>Replication</th>\n      <th>((0.0, &lt;SelectAgentsBy.RANDOM: 0&gt;), True)</th>\n      <th>((0.0, &lt;SelectAgentsBy.RANDOM: 0&gt;), False)</th>\n      <th>((0.1, &lt;SelectAgentsBy.RANDOM: 0&gt;), True)</th>\n      <th>((0.1, &lt;SelectAgentsBy.RANDOM: 0&gt;), False)</th>\n      <th>((0.25, &lt;SelectAgentsBy.RANDOM: 0&gt;), True)</th>\n      <th>((0.25, &lt;SelectAgentsBy.RANDOM: 0&gt;), False)</th>\n      <th>((0.9, &lt;SelectAgentsBy.RANDOM: 0&gt;), True)</th>\n      <th>((0.9, &lt;SelectAgentsBy.RANDOM: 0&gt;), False)</th>\n    </tr>\n  </thead>\n  <tbody>\n    <tr>\n      <th>0</th>\n      <td>0</td>\n      <td>0</td>\n      <td>([16, 59, 60, 83, 67, 59, 81, 48, 2, 90, 39, 1...</td>\n      <td>([63, 83, 68, 89, 6, 66, 82, 1, 72, 69, 31, 10...</td>\n      <td>([14, 71, 61, 86, 100, 60, 17, 1, 0, 21, 46, 9...</td>\n      <td>([34, 43, 27, 1, 76, 20, 90, 6, 78, 96, 4, 75,...</td>\n      <td>([72, 81, 76, 76, 79, 5, 12, 49, 20, 90, 60, 5...</td>\n      <td>([9, 38, 42, 99, 17, 66, 48, 3, 87, 0, 33, 31,...</td>\n      <td>([84, 16, 74, 14, 68, 79, 96, 97, 6, 6, 9, 1, ...</td>\n      <td>([72, 74, 14, 98, 83, 28, 58, 20, 38, 66, 2, 0...</td>\n    </tr>\n    <tr>\n      <th>1</th>\n      <td>1</td>\n      <td>1</td>\n      <td>([50, 48, 65, 70, 51, 35, 78, 8, 33, 79, 43, 9...</td>\n      <td>([23, 54, 56, 33, 52, 85, 96, 3, 27, 65, 32, 6...</td>\n      <td>([89, 100, 67, 97, 24, 26, 7, 96, 85, 43, 56, ...</td>\n      <td>([90, 26, 94, 95, 86, 62, 71, 47, 44, 72, 59, ...</td>\n      <td>([22, 77, 92, 98, 7, 44, 26, 7, 73, 80, 79, 33...</td>\n      <td>([85, 69, 8, 5, 14, 82, 41, 91, 84, 83, 48, 10...</td>\n      <td>([23, 55, 49, 42, 40, 92, 55, 55, 16, 26, 94, ...</td>\n      <td>([0, 7, 51, 80, 81, 59, 84, 35, 3, 51, 46, 25,...</td>\n    </tr>\n    <tr>\n      <th>2</th>\n      <td>2</td>\n      <td>2</td>\n      <td>([21, 92, 89, 77, 38, 37, 24, 86, 18, 13, 37, ...</td>\n      <td>([32, 6, 60, 25, 86, 19, 75, 58, 97, 100, 63, ...</td>\n      <td>([50, 18, 38, 52, 8, 51, 28, 6, 96, 13, 42, 31...</td>\n      <td>([41, 76, 6, 53, 32, 38, 43, 46, 51, 38, 98, 6...</td>\n      <td>([76, 38, 64, 68, 63, 89, 43, 97, 75, 39, 81, ...</td>\n      <td>([31, 37, 90, 30, 42, 22, 0, 84, 57, 52, 47, 1...</td>\n      <td>([44, 3, 21, 47, 90, 68, 37, 83, 33, 32, 52, 0...</td>\n      <td>([67, 3, 55, 36, 57, 23, 81, 28, 54, 4, 87, 51...</td>\n    </tr>\n  </tbody>\n</table>\n</div>"
     },
     "execution_count": 4,
     "metadata": {},
     "output_type": "execute_result"
    }
   ],
   "source": [
    "data.head(5)\n"
   ],
   "metadata": {
    "collapsed": false,
    "pycharm": {
     "name": "#%%\n"
    }
   }
  },
  {
   "cell_type": "markdown",
   "source": [
    "### Reshaping data"
   ],
   "metadata": {
    "collapsed": false
   }
  },
  {
   "cell_type": "code",
   "execution_count": 5,
   "outputs": [
    {
     "data": {
      "text/plain": "           ((0.0, <SelectAgentsBy.RANDOM: 0>), True)  \\\n0  ([16, 59, 60, 83, 67, 59, 81, 48, 2, 90, 39, 1...   \n1  ([50, 48, 65, 70, 51, 35, 78, 8, 33, 79, 43, 9...   \n2  ([21, 92, 89, 77, 38, 37, 24, 86, 18, 13, 37, ...   \n\n          ((0.0, <SelectAgentsBy.RANDOM: 0>), False)  \\\n0  ([63, 83, 68, 89, 6, 66, 82, 1, 72, 69, 31, 10...   \n1  ([23, 54, 56, 33, 52, 85, 96, 3, 27, 65, 32, 6...   \n2  ([32, 6, 60, 25, 86, 19, 75, 58, 97, 100, 63, ...   \n\n           ((0.1, <SelectAgentsBy.RANDOM: 0>), True)  \\\n0  ([14, 71, 61, 86, 100, 60, 17, 1, 0, 21, 46, 9...   \n1  ([89, 100, 67, 97, 24, 26, 7, 96, 85, 43, 56, ...   \n2  ([50, 18, 38, 52, 8, 51, 28, 6, 96, 13, 42, 31...   \n\n          ((0.1, <SelectAgentsBy.RANDOM: 0>), False)  \\\n0  ([34, 43, 27, 1, 76, 20, 90, 6, 78, 96, 4, 75,...   \n1  ([90, 26, 94, 95, 86, 62, 71, 47, 44, 72, 59, ...   \n2  ([41, 76, 6, 53, 32, 38, 43, 46, 51, 38, 98, 6...   \n\n          ((0.25, <SelectAgentsBy.RANDOM: 0>), True)  \\\n0  ([72, 81, 76, 76, 79, 5, 12, 49, 20, 90, 60, 5...   \n1  ([22, 77, 92, 98, 7, 44, 26, 7, 73, 80, 79, 33...   \n2  ([76, 38, 64, 68, 63, 89, 43, 97, 75, 39, 81, ...   \n\n         ((0.25, <SelectAgentsBy.RANDOM: 0>), False)  \\\n0  ([9, 38, 42, 99, 17, 66, 48, 3, 87, 0, 33, 31,...   \n1  ([85, 69, 8, 5, 14, 82, 41, 91, 84, 83, 48, 10...   \n2  ([31, 37, 90, 30, 42, 22, 0, 84, 57, 52, 47, 1...   \n\n           ((0.9, <SelectAgentsBy.RANDOM: 0>), True)  \\\n0  ([84, 16, 74, 14, 68, 79, 96, 97, 6, 6, 9, 1, ...   \n1  ([23, 55, 49, 42, 40, 92, 55, 55, 16, 26, 94, ...   \n2  ([44, 3, 21, 47, 90, 68, 37, 83, 33, 32, 52, 0...   \n\n          ((0.9, <SelectAgentsBy.RANDOM: 0>), False)  \n0  ([72, 74, 14, 98, 83, 28, 58, 20, 38, 66, 2, 0...  \n1  ([0, 7, 51, 80, 81, 59, 84, 35, 3, 51, 46, 25,...  \n2  ([67, 3, 55, 36, 57, 23, 81, 28, 54, 4, 87, 51...  ",
      "text/html": "<div>\n<style scoped>\n    .dataframe tbody tr th:only-of-type {\n        vertical-align: middle;\n    }\n\n    .dataframe tbody tr th {\n        vertical-align: top;\n    }\n\n    .dataframe thead th {\n        text-align: right;\n    }\n</style>\n<table border=\"1\" class=\"dataframe\">\n  <thead>\n    <tr style=\"text-align: right;\">\n      <th></th>\n      <th>((0.0, &lt;SelectAgentsBy.RANDOM: 0&gt;), True)</th>\n      <th>((0.0, &lt;SelectAgentsBy.RANDOM: 0&gt;), False)</th>\n      <th>((0.1, &lt;SelectAgentsBy.RANDOM: 0&gt;), True)</th>\n      <th>((0.1, &lt;SelectAgentsBy.RANDOM: 0&gt;), False)</th>\n      <th>((0.25, &lt;SelectAgentsBy.RANDOM: 0&gt;), True)</th>\n      <th>((0.25, &lt;SelectAgentsBy.RANDOM: 0&gt;), False)</th>\n      <th>((0.9, &lt;SelectAgentsBy.RANDOM: 0&gt;), True)</th>\n      <th>((0.9, &lt;SelectAgentsBy.RANDOM: 0&gt;), False)</th>\n    </tr>\n  </thead>\n  <tbody>\n    <tr>\n      <th>0</th>\n      <td>([16, 59, 60, 83, 67, 59, 81, 48, 2, 90, 39, 1...</td>\n      <td>([63, 83, 68, 89, 6, 66, 82, 1, 72, 69, 31, 10...</td>\n      <td>([14, 71, 61, 86, 100, 60, 17, 1, 0, 21, 46, 9...</td>\n      <td>([34, 43, 27, 1, 76, 20, 90, 6, 78, 96, 4, 75,...</td>\n      <td>([72, 81, 76, 76, 79, 5, 12, 49, 20, 90, 60, 5...</td>\n      <td>([9, 38, 42, 99, 17, 66, 48, 3, 87, 0, 33, 31,...</td>\n      <td>([84, 16, 74, 14, 68, 79, 96, 97, 6, 6, 9, 1, ...</td>\n      <td>([72, 74, 14, 98, 83, 28, 58, 20, 38, 66, 2, 0...</td>\n    </tr>\n    <tr>\n      <th>1</th>\n      <td>([50, 48, 65, 70, 51, 35, 78, 8, 33, 79, 43, 9...</td>\n      <td>([23, 54, 56, 33, 52, 85, 96, 3, 27, 65, 32, 6...</td>\n      <td>([89, 100, 67, 97, 24, 26, 7, 96, 85, 43, 56, ...</td>\n      <td>([90, 26, 94, 95, 86, 62, 71, 47, 44, 72, 59, ...</td>\n      <td>([22, 77, 92, 98, 7, 44, 26, 7, 73, 80, 79, 33...</td>\n      <td>([85, 69, 8, 5, 14, 82, 41, 91, 84, 83, 48, 10...</td>\n      <td>([23, 55, 49, 42, 40, 92, 55, 55, 16, 26, 94, ...</td>\n      <td>([0, 7, 51, 80, 81, 59, 84, 35, 3, 51, 46, 25,...</td>\n    </tr>\n    <tr>\n      <th>2</th>\n      <td>([21, 92, 89, 77, 38, 37, 24, 86, 18, 13, 37, ...</td>\n      <td>([32, 6, 60, 25, 86, 19, 75, 58, 97, 100, 63, ...</td>\n      <td>([50, 18, 38, 52, 8, 51, 28, 6, 96, 13, 42, 31...</td>\n      <td>([41, 76, 6, 53, 32, 38, 43, 46, 51, 38, 98, 6...</td>\n      <td>([76, 38, 64, 68, 63, 89, 43, 97, 75, 39, 81, ...</td>\n      <td>([31, 37, 90, 30, 42, 22, 0, 84, 57, 52, 47, 1...</td>\n      <td>([44, 3, 21, 47, 90, 68, 37, 83, 33, 32, 52, 0...</td>\n      <td>([67, 3, 55, 36, 57, 23, 81, 28, 54, 4, 87, 51...</td>\n    </tr>\n  </tbody>\n</table>\n</div>"
     },
     "execution_count": 5,
     "metadata": {},
     "output_type": "execute_result"
    }
   ],
   "source": [
    "data.rename({\"Unnamed: 0\":\"a\"}, axis=\"columns\", inplace=True)\n",
    "data.drop([\"a\", \"Replication\"], axis=1, inplace=True)\n",
    "data.head(5)"
   ],
   "metadata": {
    "collapsed": false,
    "pycharm": {
     "name": "#%%\n"
    }
   }
  },
  {
   "cell_type": "code",
   "execution_count": 6,
   "outputs": [
    {
     "data": {
      "text/plain": "                                              0%,\\n–  \\\n0  ([63, 83, 68, 89, 6, 66, 82, 1, 72, 69, 31, 10...   \n1  ([23, 54, 56, 33, 52, 85, 96, 3, 27, 65, 32, 6...   \n2  ([32, 6, 60, 25, 86, 19, 75, 58, 97, 100, 63, ...   \n\n                                              0%,\\nR  \\\n0  ([16, 59, 60, 83, 67, 59, 81, 48, 2, 90, 39, 1...   \n1  ([50, 48, 65, 70, 51, 35, 78, 8, 33, 79, 43, 9...   \n2  ([21, 92, 89, 77, 38, 37, 24, 86, 18, 13, 37, ...   \n\n                                             10%,\\n–  \\\n0  ([34, 43, 27, 1, 76, 20, 90, 6, 78, 96, 4, 75,...   \n1  ([90, 26, 94, 95, 86, 62, 71, 47, 44, 72, 59, ...   \n2  ([41, 76, 6, 53, 32, 38, 43, 46, 51, 38, 98, 6...   \n\n                                             10%,\\nR  \\\n0  ([14, 71, 61, 86, 100, 60, 17, 1, 0, 21, 46, 9...   \n1  ([89, 100, 67, 97, 24, 26, 7, 96, 85, 43, 56, ...   \n2  ([50, 18, 38, 52, 8, 51, 28, 6, 96, 13, 42, 31...   \n\n                                             25%,\\n–  \\\n0  ([9, 38, 42, 99, 17, 66, 48, 3, 87, 0, 33, 31,...   \n1  ([85, 69, 8, 5, 14, 82, 41, 91, 84, 83, 48, 10...   \n2  ([31, 37, 90, 30, 42, 22, 0, 84, 57, 52, 47, 1...   \n\n                                             25%,\\nR  \\\n0  ([72, 81, 76, 76, 79, 5, 12, 49, 20, 90, 60, 5...   \n1  ([22, 77, 92, 98, 7, 44, 26, 7, 73, 80, 79, 33...   \n2  ([76, 38, 64, 68, 63, 89, 43, 97, 75, 39, 81, ...   \n\n                                             90%,\\n–  \\\n0  ([72, 74, 14, 98, 83, 28, 58, 20, 38, 66, 2, 0...   \n1  ([0, 7, 51, 80, 81, 59, 84, 35, 3, 51, 46, 25,...   \n2  ([67, 3, 55, 36, 57, 23, 81, 28, 54, 4, 87, 51...   \n\n                                             90%,\\nR  \n0  ([84, 16, 74, 14, 68, 79, 96, 97, 6, 6, 9, 1, ...  \n1  ([23, 55, 49, 42, 40, 92, 55, 55, 16, 26, 94, ...  \n2  ([44, 3, 21, 47, 90, 68, 37, 83, 33, 32, 52, 0...  ",
      "text/html": "<div>\n<style scoped>\n    .dataframe tbody tr th:only-of-type {\n        vertical-align: middle;\n    }\n\n    .dataframe tbody tr th {\n        vertical-align: top;\n    }\n\n    .dataframe thead th {\n        text-align: right;\n    }\n</style>\n<table border=\"1\" class=\"dataframe\">\n  <thead>\n    <tr style=\"text-align: right;\">\n      <th></th>\n      <th>0%,\\n–</th>\n      <th>0%,\\nR</th>\n      <th>10%,\\n–</th>\n      <th>10%,\\nR</th>\n      <th>25%,\\n–</th>\n      <th>25%,\\nR</th>\n      <th>90%,\\n–</th>\n      <th>90%,\\nR</th>\n    </tr>\n  </thead>\n  <tbody>\n    <tr>\n      <th>0</th>\n      <td>([63, 83, 68, 89, 6, 66, 82, 1, 72, 69, 31, 10...</td>\n      <td>([16, 59, 60, 83, 67, 59, 81, 48, 2, 90, 39, 1...</td>\n      <td>([34, 43, 27, 1, 76, 20, 90, 6, 78, 96, 4, 75,...</td>\n      <td>([14, 71, 61, 86, 100, 60, 17, 1, 0, 21, 46, 9...</td>\n      <td>([9, 38, 42, 99, 17, 66, 48, 3, 87, 0, 33, 31,...</td>\n      <td>([72, 81, 76, 76, 79, 5, 12, 49, 20, 90, 60, 5...</td>\n      <td>([72, 74, 14, 98, 83, 28, 58, 20, 38, 66, 2, 0...</td>\n      <td>([84, 16, 74, 14, 68, 79, 96, 97, 6, 6, 9, 1, ...</td>\n    </tr>\n    <tr>\n      <th>1</th>\n      <td>([23, 54, 56, 33, 52, 85, 96, 3, 27, 65, 32, 6...</td>\n      <td>([50, 48, 65, 70, 51, 35, 78, 8, 33, 79, 43, 9...</td>\n      <td>([90, 26, 94, 95, 86, 62, 71, 47, 44, 72, 59, ...</td>\n      <td>([89, 100, 67, 97, 24, 26, 7, 96, 85, 43, 56, ...</td>\n      <td>([85, 69, 8, 5, 14, 82, 41, 91, 84, 83, 48, 10...</td>\n      <td>([22, 77, 92, 98, 7, 44, 26, 7, 73, 80, 79, 33...</td>\n      <td>([0, 7, 51, 80, 81, 59, 84, 35, 3, 51, 46, 25,...</td>\n      <td>([23, 55, 49, 42, 40, 92, 55, 55, 16, 26, 94, ...</td>\n    </tr>\n    <tr>\n      <th>2</th>\n      <td>([32, 6, 60, 25, 86, 19, 75, 58, 97, 100, 63, ...</td>\n      <td>([21, 92, 89, 77, 38, 37, 24, 86, 18, 13, 37, ...</td>\n      <td>([41, 76, 6, 53, 32, 38, 43, 46, 51, 38, 98, 6...</td>\n      <td>([50, 18, 38, 52, 8, 51, 28, 6, 96, 13, 42, 31...</td>\n      <td>([31, 37, 90, 30, 42, 22, 0, 84, 57, 52, 47, 1...</td>\n      <td>([76, 38, 64, 68, 63, 89, 43, 97, 75, 39, 81, ...</td>\n      <td>([67, 3, 55, 36, 57, 23, 81, 28, 54, 4, 87, 51...</td>\n      <td>([44, 3, 21, 47, 90, 68, 37, 83, 33, 32, 52, 0...</td>\n    </tr>\n  </tbody>\n</table>\n</div>"
     },
     "execution_count": 6,
     "metadata": {},
     "output_type": "execute_result"
    }
   ],
   "source": [
    "# Rename columns\n",
    "# column_names = [\"0%_True\", \"0%_False\",\"0%_True\", \"0%_False\",\"0%_True\", \"0%_False\",\"0%_True\", \"0%_False\",]\n",
    "data.rename({\"((0.0, <SelectAgentsBy.RANDOM: 0>), True)\":\"0%,\\nR\",\n",
    "             \"((0.0, <SelectAgentsBy.RANDOM: 0>), False)\":\"0%,\\n–\",\n",
    "             \"((0.1, <SelectAgentsBy.RANDOM: 0>), True)\":\"10%,\\nR\",\n",
    "             \"((0.1, <SelectAgentsBy.RANDOM: 0>), False)\":\"10%,\\n–\",\n",
    "             \"((0.25, <SelectAgentsBy.RANDOM: 0>), True)\":\"25%,\\nR\",\n",
    "             \"((0.25, <SelectAgentsBy.RANDOM: 0>), False)\":\"25%,\\n–\",\n",
    "             \"((0.9, <SelectAgentsBy.RANDOM: 0>), True)\":\"90%,\\nR\",\n",
    "             \"((0.9, <SelectAgentsBy.RANDOM: 0>), False)\":\"90%,\\n–\"}, axis=\"columns\", inplace=True)\n",
    "\n",
    "\n",
    "# Switch Columns (first w/o ranking, then w/ranking)\n",
    "data = data[[\"0%,\\n–\", \"0%,\\nR\",\n",
    "             \"10%,\\n–\", \"10%,\\nR\",\n",
    "             \"25%,\\n–\", \"25%,\\nR\",\n",
    "             \"90%,\\n–\", \"90%,\\nR\",]]\n",
    "\n",
    "data.head(5)\n"
   ],
   "metadata": {
    "collapsed": false,
    "pycharm": {
     "name": "#%%\n"
    }
   }
  },
  {
   "cell_type": "markdown",
   "source": [
    "### Histogram\n"
   ],
   "metadata": {
    "collapsed": false
   }
  },
  {
   "cell_type": "code",
   "execution_count": 7,
   "outputs": [],
   "source": [
    "# Overview of the agents' belief distribution at the end\n",
    "# for policy in data.columns:\n",
    "policies = data.columns\n",
    "policy_nr = 1\n",
    "\n",
    "policy_data = data.iloc[:,policy_nr]  # [0]\n",
    "# after = data.iloc[:,policy_nr][1]"
   ],
   "metadata": {
    "collapsed": false,
    "pycharm": {
     "name": "#%%\n"
    }
   }
  },
  {
   "cell_type": "code",
   "execution_count": 8,
   "outputs": [
    {
     "name": "stdout",
     "output_type": "stream",
     "text": [
      "0    ([16, 59, 60, 83, 67, 59, 81, 48, 2, 90, 39, 1...\n",
      "1    ([50, 48, 65, 70, 51, 35, 78, 8, 33, 79, 43, 9...\n",
      "2    ([21, 92, 89, 77, 38, 37, 24, 86, 18, 13, 37, ...\n",
      "Name: 0%,\\nR, dtype: object\n"
     ]
    }
   ],
   "source": [
    "print(policy_data)\n"
   ],
   "metadata": {
    "collapsed": false,
    "pycharm": {
     "name": "#%%\n"
    }
   }
  },
  {
   "cell_type": "code",
   "execution_count": 9,
   "outputs": [],
   "source": [
    "def convert(string):\n",
    "    \"\"\"\n",
    "    Converts the String of each cell within the dataframe into two lists of agent beliefs\n",
    "    (before and after the run)\n",
    "    :return before: list of floats, each in domain [0,100]\n",
    "    :return after: list of floats, each in domain [0,100]\n",
    "    \"\"\"\n",
    "    # remove tuple parentheses\n",
    "    string = string[2:-2]\n",
    "\n",
    "    # split before <> after\n",
    "    before, after = list(string.split(\"], [\"))\n",
    "\n",
    "    # convert from string to lists\n",
    "    before = list(before.split(\", \"))\n",
    "    after = list(after.split(\", \"))\n",
    "\n",
    "    # convert individual values from String to float\n",
    "    before = [float(s) for s in before]\n",
    "    after = [float(s) for s in after]\n",
    "\n",
    "    return before, after"
   ],
   "metadata": {
    "collapsed": false,
    "pycharm": {
     "name": "#%%\n"
    }
   }
  },
  {
   "cell_type": "code",
   "execution_count": 10,
   "outputs": [
    {
     "name": "stdout",
     "output_type": "stream",
     "text": [
      "row: <class 'str'>\n",
      "before: <class 'float'> \n",
      "after: <class 'float'> \n",
      "\n",
      "row: <class 'str'>\n",
      "before: <class 'float'> \n",
      "after: <class 'float'> \n",
      "\n",
      "row: <class 'str'>\n",
      "before: <class 'float'> \n",
      "after: <class 'float'> \n",
      "\n"
     ]
    }
   ],
   "source": [
    "# Checking whether converting works\n",
    "for row in policy_data:\n",
    "    print(f\"row: {type(row)}\")\n",
    "    before, after = convert(row)\n",
    "    print(f'before: {type(before[0])} \\n'\n",
    "          f'after: {type(after[0])} \\n')\n"
   ],
   "metadata": {
    "collapsed": false,
    "pycharm": {
     "name": "#%%\n"
    }
   }
  },
  {
   "cell_type": "markdown",
   "source": [
    "## Preparing the lists (before & after)"
   ],
   "metadata": {
    "collapsed": false,
    "pycharm": {
     "name": "#%% md\n"
    }
   }
  },
  {
   "cell_type": "code",
   "execution_count": 11,
   "outputs": [],
   "source": [
    "run_id = 0\n",
    "row = policy_data[run_id]\n",
    "before, after = convert(row)\n"
   ],
   "metadata": {
    "collapsed": false,
    "pycharm": {
     "name": "#%%\n"
    }
   }
  },
  {
   "cell_type": "markdown",
   "source": [
    "# Plotting"
   ],
   "metadata": {
    "collapsed": false,
    "pycharm": {
     "name": "#%% md\n"
    }
   }
  },
  {
   "cell_type": "code",
   "execution_count": 17,
   "outputs": [
    {
     "data": {
      "text/plain": "<Figure size 770.4x595.44 with 1 Axes>",
      "image/png": "[encoded data removed]"
     },
     "metadata": {},
     "output_type": "display_data"
    }
   ],
   "source": [
    "sns.set(style=\"darkgrid\", rc={'figure.figsize':(10.7,8.27)})\n",
    "\n",
    "sns.histplot(data=before, color=\"skyblue\", label=\"Before\", kde=True, bins=25, binrange=(0,100))\n",
    "sns.histplot(data=after, color=\"red\", label=\"After\", kde=True, bins=25, binrange=(0,100))\n",
    "\n",
    "plt.legend(fontsize='x-large')\n",
    "plt.xlabel(\"Belief on Vaccine Topic\", fontsize=15)\n",
    "plt.ylabel(\"Agent Count\", fontsize=15)\n",
    "plt.title(\"Beliefs Before and After\", fontsize=22)\n",
    "plt.show()"
   ],
   "metadata": {
    "collapsed": false,
    "pycharm": {
     "name": "#%%\n"
    }
   }
  },
  {
   "cell_type": "code",
   "execution_count": 12,
   "outputs": [],
   "source": [],
   "metadata": {
    "collapsed": false,
    "pycharm": {
     "name": "#%%\n"
    }
   }
  }
 ],
 "metadata": {
  "kernelspec": {
   "display_name": "Python 3",
   "language": "python",
   "name": "python3"
  },
  "language_info": {
   "codemirror_mode": {
    "name": "ipython",
    "version": 2
   },
   "file_extension": ".py",
   "mimetype": "text/x-python",
   "name": "python",
   "nbconvert_exporter": "python",
   "pygments_lexer": "ipython2",
   "version": "2.7.6"
  }
 },
 "nbformat": 4,
 "nbformat_minor": 0
}