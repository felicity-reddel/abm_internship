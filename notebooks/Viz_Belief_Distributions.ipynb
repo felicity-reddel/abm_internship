{
 "cells": [
  {
   "cell_type": "code",
   "execution_count": 2,
   "metadata": {
    "collapsed": true
   },
   "outputs": [],
   "source": [
    "import pandas as pd\n",
    "import os\n",
    "import seaborn as sns\n",
    "import numpy as np\n",
    "from matplotlib import pyplot as plt\n"
   ]
  },
  {
   "cell_type": "markdown",
   "source": [
    "### Loading data\n"
   ],
   "metadata": {
    "collapsed": false
   }
  },
  {
   "cell_type": "code",
   "execution_count": 18,
   "outputs": [],
   "source": [
    "root_dir = os.path.abspath(os.curdir)  # Doesn't work as intended. Needs fix below.\n",
    "root_dir = root_dir[:-9]\n",
    "results_dir = root_dir + \"/results/\"\n",
    "# file_name = \"belief_distributions_before_after.csv\"\n",
    "# file_name = \"belief_distr_{'NormalUser': 1.0, 'Disinformer': 0.0}.csv\"    # tiny experiment to see whether roughly makes sense?\n",
    "# file_name = \"belief_distr_{'NormalUser': 0.99, 'Disinformer': 0.01}.csv\"\n",
    "file_name = \"belief_distr_{'NormalUser': 0.98, 'Disinformer': 0.02}.csv\"  # Actual experiment condition\n",
    "# file_name = \"belief_distr_{'NormalUser': 0.95, 'Disinformer': 0.05}.csv\"\n",
    "\n",
    "file_dir = results_dir + file_name\n",
    "\n",
    "data = pd.read_csv(file_dir)\n"
   ],
   "metadata": {
    "collapsed": false,
    "pycharm": {
     "name": "#%%\n"
    }
   }
  },
  {
   "cell_type": "code",
   "execution_count": 19,
   "outputs": [
    {
     "data": {
      "text/plain": "   Unnamed: 0  Replication          ((0.0, <SelectAgentsBy.RANDOM: 0>), True)  \\\n0           0            0  ([66, 76, 41, 15, 1, 39, 57, 75, 30, 0, 13, 59...   \n1           1            1  ([35, 92, 79, 64, 67, 41, 74, 8, 28, 17, 8, 92...   \n2           2            2  ([35, 23, 90, 9, 29, 55, 91, 42, 50, 10, 84, 4...   \n\n          ((0.0, <SelectAgentsBy.RANDOM: 0>), False)  \\\n0  ([75, 79, 83, 39, 81, 43, 98, 66, 94, 65, 38, ...   \n1  ([17, 51, 27, 1, 79, 48, 93, 44, 97, 87, 14, 3...   \n2  ([17, 68, 53, 93, 60, 84, 12, 4, 99, 26, 50, 9...   \n\n           ((0.1, <SelectAgentsBy.RANDOM: 0>), True)  \\\n0  ([25, 54, 4, 31, 3, 57, 12, 80, 15, 50, 60, 0,...   \n1  ([76, 90, 44, 46, 53, 10, 64, 1, 3, 32, 22, 26...   \n2  ([79, 73, 72, 5, 25, 97, 87, 31, 24, 80, 99, 4...   \n\n          ((0.1, <SelectAgentsBy.RANDOM: 0>), False)  \\\n0  ([24, 50, 9, 39, 56, 23, 91, 58, 15, 18, 39, 6...   \n1  ([59, 19, 95, 23, 31, 29, 76, 90, 78, 31, 19, ...   \n2  ([92, 28, 93, 50, 73, 52, 43, 89, 79, 73, 26, ...   \n\n          ((0.25, <SelectAgentsBy.RANDOM: 0>), True)  \\\n0  ([71, 95, 21, 33, 85, 8, 22, 77, 53, 53, 67, 2...   \n1  ([87, 42, 81, 8, 24, 79, 50, 14, 16, 36, 48, 9...   \n2  ([66, 93, 32, 42, 79, 32, 33, 85, 65, 11, 27, ...   \n\n         ((0.25, <SelectAgentsBy.RANDOM: 0>), False)  \n0  ([88, 1, 55, 26, 25, 90, 92, 20, 22, 91, 10, 3...  \n1  ([40, 29, 71, 89, 84, 93, 49, 42, 86, 26, 19, ...  \n2  ([73, 67, 41, 91, 11, 10, 46, 4, 7, 44, 13, 20...  ",
      "text/html": "<div>\n<style scoped>\n    .dataframe tbody tr th:only-of-type {\n        vertical-align: middle;\n    }\n\n    .dataframe tbody tr th {\n        vertical-align: top;\n    }\n\n    .dataframe thead th {\n        text-align: right;\n    }\n</style>\n<table border=\"1\" class=\"dataframe\">\n  <thead>\n    <tr style=\"text-align: right;\">\n      <th></th>\n      <th>Unnamed: 0</th>\n      <th>Replication</th>\n      <th>((0.0, &lt;SelectAgentsBy.RANDOM: 0&gt;), True)</th>\n      <th>((0.0, &lt;SelectAgentsBy.RANDOM: 0&gt;), False)</th>\n      <th>((0.1, &lt;SelectAgentsBy.RANDOM: 0&gt;), True)</th>\n      <th>((0.1, &lt;SelectAgentsBy.RANDOM: 0&gt;), False)</th>\n      <th>((0.25, &lt;SelectAgentsBy.RANDOM: 0&gt;), True)</th>\n      <th>((0.25, &lt;SelectAgentsBy.RANDOM: 0&gt;), False)</th>\n    </tr>\n  </thead>\n  <tbody>\n    <tr>\n      <th>0</th>\n      <td>0</td>\n      <td>0</td>\n      <td>([66, 76, 41, 15, 1, 39, 57, 75, 30, 0, 13, 59...</td>\n      <td>([75, 79, 83, 39, 81, 43, 98, 66, 94, 65, 38, ...</td>\n      <td>([25, 54, 4, 31, 3, 57, 12, 80, 15, 50, 60, 0,...</td>\n      <td>([24, 50, 9, 39, 56, 23, 91, 58, 15, 18, 39, 6...</td>\n      <td>([71, 95, 21, 33, 85, 8, 22, 77, 53, 53, 67, 2...</td>\n      <td>([88, 1, 55, 26, 25, 90, 92, 20, 22, 91, 10, 3...</td>\n    </tr>\n    <tr>\n      <th>1</th>\n      <td>1</td>\n      <td>1</td>\n      <td>([35, 92, 79, 64, 67, 41, 74, 8, 28, 17, 8, 92...</td>\n      <td>([17, 51, 27, 1, 79, 48, 93, 44, 97, 87, 14, 3...</td>\n      <td>([76, 90, 44, 46, 53, 10, 64, 1, 3, 32, 22, 26...</td>\n      <td>([59, 19, 95, 23, 31, 29, 76, 90, 78, 31, 19, ...</td>\n      <td>([87, 42, 81, 8, 24, 79, 50, 14, 16, 36, 48, 9...</td>\n      <td>([40, 29, 71, 89, 84, 93, 49, 42, 86, 26, 19, ...</td>\n    </tr>\n    <tr>\n      <th>2</th>\n      <td>2</td>\n      <td>2</td>\n      <td>([35, 23, 90, 9, 29, 55, 91, 42, 50, 10, 84, 4...</td>\n      <td>([17, 68, 53, 93, 60, 84, 12, 4, 99, 26, 50, 9...</td>\n      <td>([79, 73, 72, 5, 25, 97, 87, 31, 24, 80, 99, 4...</td>\n      <td>([92, 28, 93, 50, 73, 52, 43, 89, 79, 73, 26, ...</td>\n      <td>([66, 93, 32, 42, 79, 32, 33, 85, 65, 11, 27, ...</td>\n      <td>([73, 67, 41, 91, 11, 10, 46, 4, 7, 44, 13, 20...</td>\n    </tr>\n  </tbody>\n</table>\n</div>"
     },
     "execution_count": 19,
     "metadata": {},
     "output_type": "execute_result"
    }
   ],
   "source": [
    "data.head(5)\n"
   ],
   "metadata": {
    "collapsed": false,
    "pycharm": {
     "name": "#%%\n"
    }
   }
  },
  {
   "cell_type": "markdown",
   "source": [
    "### Reshaping data"
   ],
   "metadata": {
    "collapsed": false
   }
  },
  {
   "cell_type": "code",
   "execution_count": 20,
   "outputs": [
    {
     "data": {
      "text/plain": "           ((0.0, <SelectAgentsBy.RANDOM: 0>), True)  \\\n0  ([66, 76, 41, 15, 1, 39, 57, 75, 30, 0, 13, 59...   \n1  ([35, 92, 79, 64, 67, 41, 74, 8, 28, 17, 8, 92...   \n2  ([35, 23, 90, 9, 29, 55, 91, 42, 50, 10, 84, 4...   \n\n          ((0.0, <SelectAgentsBy.RANDOM: 0>), False)  \\\n0  ([75, 79, 83, 39, 81, 43, 98, 66, 94, 65, 38, ...   \n1  ([17, 51, 27, 1, 79, 48, 93, 44, 97, 87, 14, 3...   \n2  ([17, 68, 53, 93, 60, 84, 12, 4, 99, 26, 50, 9...   \n\n           ((0.1, <SelectAgentsBy.RANDOM: 0>), True)  \\\n0  ([25, 54, 4, 31, 3, 57, 12, 80, 15, 50, 60, 0,...   \n1  ([76, 90, 44, 46, 53, 10, 64, 1, 3, 32, 22, 26...   \n2  ([79, 73, 72, 5, 25, 97, 87, 31, 24, 80, 99, 4...   \n\n          ((0.1, <SelectAgentsBy.RANDOM: 0>), False)  \\\n0  ([24, 50, 9, 39, 56, 23, 91, 58, 15, 18, 39, 6...   \n1  ([59, 19, 95, 23, 31, 29, 76, 90, 78, 31, 19, ...   \n2  ([92, 28, 93, 50, 73, 52, 43, 89, 79, 73, 26, ...   \n\n          ((0.25, <SelectAgentsBy.RANDOM: 0>), True)  \\\n0  ([71, 95, 21, 33, 85, 8, 22, 77, 53, 53, 67, 2...   \n1  ([87, 42, 81, 8, 24, 79, 50, 14, 16, 36, 48, 9...   \n2  ([66, 93, 32, 42, 79, 32, 33, 85, 65, 11, 27, ...   \n\n         ((0.25, <SelectAgentsBy.RANDOM: 0>), False)  \n0  ([88, 1, 55, 26, 25, 90, 92, 20, 22, 91, 10, 3...  \n1  ([40, 29, 71, 89, 84, 93, 49, 42, 86, 26, 19, ...  \n2  ([73, 67, 41, 91, 11, 10, 46, 4, 7, 44, 13, 20...  ",
      "text/html": "<div>\n<style scoped>\n    .dataframe tbody tr th:only-of-type {\n        vertical-align: middle;\n    }\n\n    .dataframe tbody tr th {\n        vertical-align: top;\n    }\n\n    .dataframe thead th {\n        text-align: right;\n    }\n</style>\n<table border=\"1\" class=\"dataframe\">\n  <thead>\n    <tr style=\"text-align: right;\">\n      <th></th>\n      <th>((0.0, &lt;SelectAgentsBy.RANDOM: 0&gt;), True)</th>\n      <th>((0.0, &lt;SelectAgentsBy.RANDOM: 0&gt;), False)</th>\n      <th>((0.1, &lt;SelectAgentsBy.RANDOM: 0&gt;), True)</th>\n      <th>((0.1, &lt;SelectAgentsBy.RANDOM: 0&gt;), False)</th>\n      <th>((0.25, &lt;SelectAgentsBy.RANDOM: 0&gt;), True)</th>\n      <th>((0.25, &lt;SelectAgentsBy.RANDOM: 0&gt;), False)</th>\n    </tr>\n  </thead>\n  <tbody>\n    <tr>\n      <th>0</th>\n      <td>([66, 76, 41, 15, 1, 39, 57, 75, 30, 0, 13, 59...</td>\n      <td>([75, 79, 83, 39, 81, 43, 98, 66, 94, 65, 38, ...</td>\n      <td>([25, 54, 4, 31, 3, 57, 12, 80, 15, 50, 60, 0,...</td>\n      <td>([24, 50, 9, 39, 56, 23, 91, 58, 15, 18, 39, 6...</td>\n      <td>([71, 95, 21, 33, 85, 8, 22, 77, 53, 53, 67, 2...</td>\n      <td>([88, 1, 55, 26, 25, 90, 92, 20, 22, 91, 10, 3...</td>\n    </tr>\n    <tr>\n      <th>1</th>\n      <td>([35, 92, 79, 64, 67, 41, 74, 8, 28, 17, 8, 92...</td>\n      <td>([17, 51, 27, 1, 79, 48, 93, 44, 97, 87, 14, 3...</td>\n      <td>([76, 90, 44, 46, 53, 10, 64, 1, 3, 32, 22, 26...</td>\n      <td>([59, 19, 95, 23, 31, 29, 76, 90, 78, 31, 19, ...</td>\n      <td>([87, 42, 81, 8, 24, 79, 50, 14, 16, 36, 48, 9...</td>\n      <td>([40, 29, 71, 89, 84, 93, 49, 42, 86, 26, 19, ...</td>\n    </tr>\n    <tr>\n      <th>2</th>\n      <td>([35, 23, 90, 9, 29, 55, 91, 42, 50, 10, 84, 4...</td>\n      <td>([17, 68, 53, 93, 60, 84, 12, 4, 99, 26, 50, 9...</td>\n      <td>([79, 73, 72, 5, 25, 97, 87, 31, 24, 80, 99, 4...</td>\n      <td>([92, 28, 93, 50, 73, 52, 43, 89, 79, 73, 26, ...</td>\n      <td>([66, 93, 32, 42, 79, 32, 33, 85, 65, 11, 27, ...</td>\n      <td>([73, 67, 41, 91, 11, 10, 46, 4, 7, 44, 13, 20...</td>\n    </tr>\n  </tbody>\n</table>\n</div>"
     },
     "execution_count": 20,
     "metadata": {},
     "output_type": "execute_result"
    }
   ],
   "source": [
    "data.rename({\"Unnamed: 0\":\"a\"}, axis=\"columns\", inplace=True)\n",
    "data.drop([\"a\", \"Replication\"], axis=1, inplace=True)\n",
    "data.head(5)"
   ],
   "metadata": {
    "collapsed": false,
    "pycharm": {
     "name": "#%%\n"
    }
   }
  },
  {
   "cell_type": "code",
   "execution_count": 21,
   "outputs": [
    {
     "ename": "KeyError",
     "evalue": "\"['90%,\\\\nR', '90%,\\\\n–'] not in index\"",
     "output_type": "error",
     "traceback": [
      "\u001B[0;31m---------------------------------------------------------------------------\u001B[0m",
      "\u001B[0;31mKeyError\u001B[0m                                  Traceback (most recent call last)",
      "\u001B[0;32m<ipython-input-21-868f2ed8e1e4>\u001B[0m in \u001B[0;36m<module>\u001B[0;34m\u001B[0m\n\u001B[1;32m     12\u001B[0m \u001B[0;34m\u001B[0m\u001B[0m\n\u001B[1;32m     13\u001B[0m \u001B[0;31m# Switch Columns (first w/o ranking, then w/ranking)\u001B[0m\u001B[0;34m\u001B[0m\u001B[0;34m\u001B[0m\u001B[0;34m\u001B[0m\u001B[0m\n\u001B[0;32m---> 14\u001B[0;31m data = data[[\"0%,\\n–\", \"0%,\\nR\",\n\u001B[0m\u001B[1;32m     15\u001B[0m              \u001B[0;34m\"10%,\\n–\"\u001B[0m\u001B[0;34m,\u001B[0m \u001B[0;34m\"10%,\\nR\"\u001B[0m\u001B[0;34m,\u001B[0m\u001B[0;34m\u001B[0m\u001B[0;34m\u001B[0m\u001B[0m\n\u001B[1;32m     16\u001B[0m              \u001B[0;34m\"25%,\\n–\"\u001B[0m\u001B[0;34m,\u001B[0m \u001B[0;34m\"25%,\\nR\"\u001B[0m\u001B[0;34m,\u001B[0m\u001B[0;34m\u001B[0m\u001B[0;34m\u001B[0m\u001B[0m\n",
      "\u001B[0;32m/Library/Frameworks/Python.framework/Versions/3.9/lib/python3.9/site-packages/pandas/core/frame.py\u001B[0m in \u001B[0;36m__getitem__\u001B[0;34m(self, key)\u001B[0m\n\u001B[1;32m   3028\u001B[0m             \u001B[0;32mif\u001B[0m \u001B[0mis_iterator\u001B[0m\u001B[0;34m(\u001B[0m\u001B[0mkey\u001B[0m\u001B[0;34m)\u001B[0m\u001B[0;34m:\u001B[0m\u001B[0;34m\u001B[0m\u001B[0;34m\u001B[0m\u001B[0m\n\u001B[1;32m   3029\u001B[0m                 \u001B[0mkey\u001B[0m \u001B[0;34m=\u001B[0m \u001B[0mlist\u001B[0m\u001B[0;34m(\u001B[0m\u001B[0mkey\u001B[0m\u001B[0;34m)\u001B[0m\u001B[0;34m\u001B[0m\u001B[0;34m\u001B[0m\u001B[0m\n\u001B[0;32m-> 3030\u001B[0;31m             \u001B[0mindexer\u001B[0m \u001B[0;34m=\u001B[0m \u001B[0mself\u001B[0m\u001B[0;34m.\u001B[0m\u001B[0mloc\u001B[0m\u001B[0;34m.\u001B[0m\u001B[0m_get_listlike_indexer\u001B[0m\u001B[0;34m(\u001B[0m\u001B[0mkey\u001B[0m\u001B[0;34m,\u001B[0m \u001B[0maxis\u001B[0m\u001B[0;34m=\u001B[0m\u001B[0;36m1\u001B[0m\u001B[0;34m,\u001B[0m \u001B[0mraise_missing\u001B[0m\u001B[0;34m=\u001B[0m\u001B[0;32mTrue\u001B[0m\u001B[0;34m)\u001B[0m\u001B[0;34m[\u001B[0m\u001B[0;36m1\u001B[0m\u001B[0;34m]\u001B[0m\u001B[0;34m\u001B[0m\u001B[0;34m\u001B[0m\u001B[0m\n\u001B[0m\u001B[1;32m   3031\u001B[0m \u001B[0;34m\u001B[0m\u001B[0m\n\u001B[1;32m   3032\u001B[0m         \u001B[0;31m# take() does not accept boolean indexers\u001B[0m\u001B[0;34m\u001B[0m\u001B[0;34m\u001B[0m\u001B[0;34m\u001B[0m\u001B[0m\n",
      "\u001B[0;32m/Library/Frameworks/Python.framework/Versions/3.9/lib/python3.9/site-packages/pandas/core/indexing.py\u001B[0m in \u001B[0;36m_get_listlike_indexer\u001B[0;34m(self, key, axis, raise_missing)\u001B[0m\n\u001B[1;32m   1264\u001B[0m             \u001B[0mkeyarr\u001B[0m\u001B[0;34m,\u001B[0m \u001B[0mindexer\u001B[0m\u001B[0;34m,\u001B[0m \u001B[0mnew_indexer\u001B[0m \u001B[0;34m=\u001B[0m \u001B[0max\u001B[0m\u001B[0;34m.\u001B[0m\u001B[0m_reindex_non_unique\u001B[0m\u001B[0;34m(\u001B[0m\u001B[0mkeyarr\u001B[0m\u001B[0;34m)\u001B[0m\u001B[0;34m\u001B[0m\u001B[0;34m\u001B[0m\u001B[0m\n\u001B[1;32m   1265\u001B[0m \u001B[0;34m\u001B[0m\u001B[0m\n\u001B[0;32m-> 1266\u001B[0;31m         \u001B[0mself\u001B[0m\u001B[0;34m.\u001B[0m\u001B[0m_validate_read_indexer\u001B[0m\u001B[0;34m(\u001B[0m\u001B[0mkeyarr\u001B[0m\u001B[0;34m,\u001B[0m \u001B[0mindexer\u001B[0m\u001B[0;34m,\u001B[0m \u001B[0maxis\u001B[0m\u001B[0;34m,\u001B[0m \u001B[0mraise_missing\u001B[0m\u001B[0;34m=\u001B[0m\u001B[0mraise_missing\u001B[0m\u001B[0;34m)\u001B[0m\u001B[0;34m\u001B[0m\u001B[0;34m\u001B[0m\u001B[0m\n\u001B[0m\u001B[1;32m   1267\u001B[0m         \u001B[0;32mreturn\u001B[0m \u001B[0mkeyarr\u001B[0m\u001B[0;34m,\u001B[0m \u001B[0mindexer\u001B[0m\u001B[0;34m\u001B[0m\u001B[0;34m\u001B[0m\u001B[0m\n\u001B[1;32m   1268\u001B[0m \u001B[0;34m\u001B[0m\u001B[0m\n",
      "\u001B[0;32m/Library/Frameworks/Python.framework/Versions/3.9/lib/python3.9/site-packages/pandas/core/indexing.py\u001B[0m in \u001B[0;36m_validate_read_indexer\u001B[0;34m(self, key, indexer, axis, raise_missing)\u001B[0m\n\u001B[1;32m   1314\u001B[0m             \u001B[0;32mif\u001B[0m \u001B[0mraise_missing\u001B[0m\u001B[0;34m:\u001B[0m\u001B[0;34m\u001B[0m\u001B[0;34m\u001B[0m\u001B[0m\n\u001B[1;32m   1315\u001B[0m                 \u001B[0mnot_found\u001B[0m \u001B[0;34m=\u001B[0m \u001B[0mlist\u001B[0m\u001B[0;34m(\u001B[0m\u001B[0mset\u001B[0m\u001B[0;34m(\u001B[0m\u001B[0mkey\u001B[0m\u001B[0;34m)\u001B[0m \u001B[0;34m-\u001B[0m \u001B[0mset\u001B[0m\u001B[0;34m(\u001B[0m\u001B[0max\u001B[0m\u001B[0;34m)\u001B[0m\u001B[0;34m)\u001B[0m\u001B[0;34m\u001B[0m\u001B[0;34m\u001B[0m\u001B[0m\n\u001B[0;32m-> 1316\u001B[0;31m                 \u001B[0;32mraise\u001B[0m \u001B[0mKeyError\u001B[0m\u001B[0;34m(\u001B[0m\u001B[0;34mf\"{not_found} not in index\"\u001B[0m\u001B[0;34m)\u001B[0m\u001B[0;34m\u001B[0m\u001B[0;34m\u001B[0m\u001B[0m\n\u001B[0m\u001B[1;32m   1317\u001B[0m \u001B[0;34m\u001B[0m\u001B[0m\n\u001B[1;32m   1318\u001B[0m             \u001B[0mnot_found\u001B[0m \u001B[0;34m=\u001B[0m \u001B[0mkey\u001B[0m\u001B[0;34m[\u001B[0m\u001B[0mmissing_mask\u001B[0m\u001B[0;34m]\u001B[0m\u001B[0;34m\u001B[0m\u001B[0;34m\u001B[0m\u001B[0m\n",
      "\u001B[0;31mKeyError\u001B[0m: \"['90%,\\\\nR', '90%,\\\\n–'] not in index\""
     ]
    }
   ],
   "source": [
    "# Rename columns\n",
    "# column_names = [\"0%_True\", \"0%_False\",\"0%_True\", \"0%_False\",\"0%_True\", \"0%_False\",\"0%_True\", \"0%_False\",]\n",
    "data.rename({\"((0.0, <SelectAgentsBy.RANDOM: 0>), True)\":\"0%,\\nR\",\n",
    "             \"((0.0, <SelectAgentsBy.RANDOM: 0>), False)\":\"0%,\\n–\",\n",
    "             \"((0.1, <SelectAgentsBy.RANDOM: 0>), True)\":\"10%,\\nR\",\n",
    "             \"((0.1, <SelectAgentsBy.RANDOM: 0>), False)\":\"10%,\\n–\",\n",
    "             \"((0.25, <SelectAgentsBy.RANDOM: 0>), True)\":\"25%,\\nR\",\n",
    "             \"((0.25, <SelectAgentsBy.RANDOM: 0>), False)\":\"25%,\\n–\",\n",
    "             \"((0.9, <SelectAgentsBy.RANDOM: 0>), True)\":\"90%,\\nR\",\n",
    "             \"((0.9, <SelectAgentsBy.RANDOM: 0>), False)\":\"90%,\\n–\"}, axis=\"columns\", inplace=True)\n",
    "\n",
    "\n",
    "# Switch Columns (first w/o ranking, then w/ranking)\n",
    "data = data[[\"0%,\\n–\", \"0%,\\nR\",\n",
    "             \"10%,\\n–\", \"10%,\\nR\",\n",
    "             \"25%,\\n–\", \"25%,\\nR\",\n",
    "             \"90%,\\n–\", \"90%,\\nR\",]]\n",
    "\n",
    "data.head(5)\n"
   ],
   "metadata": {
    "collapsed": false,
    "pycharm": {
     "name": "#%%\n"
    }
   }
  },
  {
   "cell_type": "markdown",
   "source": [
    "### Histogram\n"
   ],
   "metadata": {
    "collapsed": false
   }
  },
  {
   "cell_type": "code",
   "execution_count": 33,
   "outputs": [],
   "source": [
    "# Overview of the agents' belief distribution at the end\n",
    "# for policy in data.columns:\n",
    "policies = data.columns\n",
    "policy_nr = 5\n",
    "\n",
    "policy_data = data.iloc[:,policy_nr]  # [0]\n",
    "# after = data.iloc[:,policy_nr][1]"
   ],
   "metadata": {
    "collapsed": false,
    "pycharm": {
     "name": "#%%\n"
    }
   }
  },
  {
   "cell_type": "code",
   "execution_count": 34,
   "outputs": [],
   "source": [
    "# print(policy_data)\n"
   ],
   "metadata": {
    "collapsed": false,
    "pycharm": {
     "name": "#%%\n"
    }
   }
  },
  {
   "cell_type": "code",
   "execution_count": 35,
   "outputs": [],
   "source": [
    "def convert(string):\n",
    "    \"\"\"\n",
    "    Converts the String of each cell within the dataframe into two lists of agent beliefs\n",
    "    (before and after the run)\n",
    "    :return before: list of floats, each in domain [0,100]\n",
    "    :return after: list of floats, each in domain [0,100]\n",
    "    \"\"\"\n",
    "    # remove tuple parentheses\n",
    "    string = string[2:-2]\n",
    "\n",
    "    # split before <> after\n",
    "    before, after = list(string.split(\"], [\"))\n",
    "\n",
    "    # convert from string to lists\n",
    "    before = list(before.split(\", \"))\n",
    "    after = list(after.split(\", \"))\n",
    "\n",
    "    # convert individual values from String to float\n",
    "    before = [float(s) for s in before]\n",
    "    after = [float(s) for s in after]\n",
    "\n",
    "    return before, after"
   ],
   "metadata": {
    "collapsed": false,
    "pycharm": {
     "name": "#%%\n"
    }
   }
  },
  {
   "cell_type": "code",
   "execution_count": 36,
   "outputs": [],
   "source": [
    "# Checking whether converting works\n",
    "# for row in policy_data:\n",
    "#     print(f\"row: {type(row)}\")\n",
    "#     before, after = convert(row)\n",
    "#     print(f'before: {type(before[0])} \\n'\n",
    "#           f'after: {type(after[0])} \\n')\n"
   ],
   "metadata": {
    "collapsed": false,
    "pycharm": {
     "name": "#%%\n"
    }
   }
  },
  {
   "cell_type": "markdown",
   "source": [
    "## Preparing the lists (before & after)"
   ],
   "metadata": {
    "collapsed": false,
    "pycharm": {
     "name": "#%% md\n"
    }
   }
  },
  {
   "cell_type": "code",
   "execution_count": 41,
   "outputs": [],
   "source": [
    "run_id = 0\n",
    "row = policy_data[run_id]\n",
    "before, after = convert(row)\n"
   ],
   "metadata": {
    "collapsed": false,
    "pycharm": {
     "name": "#%%\n"
    }
   }
  },
  {
   "cell_type": "markdown",
   "source": [
    "# Plotting"
   ],
   "metadata": {
    "collapsed": false,
    "pycharm": {
     "name": "#%% md\n"
    }
   }
  },
  {
   "cell_type": "code",
   "execution_count": 42,
   "outputs": [
    {
     "data": {
      "text/plain": "<Figure size 770.4x595.44 with 1 Axes>",
      "image/png": "[encoded data removed]"
     },
     "metadata": {},
     "output_type": "display_data"
    }
   ],
   "source": [
    "sns.set(style=\"darkgrid\", rc={'figure.figsize':(10.7,8.27)})\n",
    "\n",
    "sns.histplot(data=before, color=\"skyblue\", label=\"Before\", kde=True, bins=25, binrange=(0,100))\n",
    "sns.histplot(data=after, color=\"red\", label=\"After\", kde=True, bins=25, binrange=(0,100))\n",
    "\n",
    "plt.legend(fontsize='x-large')\n",
    "plt.xlabel(\"Belief on Vaccine Topic\", fontsize=15)\n",
    "plt.ylabel(\"Agent Count\", fontsize=15)\n",
    "plt.title(\"Beliefs Before and After\", fontsize=22)\n",
    "plt.show()"
   ],
   "metadata": {
    "collapsed": false,
    "pycharm": {
     "name": "#%%\n"
    }
   }
  },
  {
   "cell_type": "code",
   "execution_count": 12,
   "outputs": [],
   "source": [],
   "metadata": {
    "collapsed": false,
    "pycharm": {
     "name": "#%%\n"
    }
   }
  }
 ],
 "metadata": {
  "kernelspec": {
   "display_name": "Python 3",
   "language": "python",
   "name": "python3"
  },
  "language_info": {
   "codemirror_mode": {
    "name": "ipython",
    "version": 2
   },
   "file_extension": ".py",
   "mimetype": "text/x-python",
   "name": "python",
   "nbconvert_exporter": "python",
   "pygments_lexer": "ipython2",
   "version": "2.7.6"
  }
 },
 "nbformat": 4,
 "nbformat_minor": 0
}