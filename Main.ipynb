{
 "cells": [
  {
   "cell_type": "code",
   "execution_count": 8,
   "metadata": {
    "collapsed": true
   },
   "outputs": [],
   "source": [
    "from Model import MisinfoModel  # , draw_graph\n",
    "from Visualization import *\n",
    "from Agents import *\n",
    "import time\n",
    "import numpy as np\n",
    "import seaborn as sns\n",
    "sns.set_theme(style=\"whitegrid\")"
   ]
  },
  {
   "cell_type": "code",
   "execution_count": 9,
   "outputs": [],
   "source": [
    "\n",
    "# Parameters\n",
    "visualize = False\n",
    "n_agents = 1000\n",
    "agent_ratio = {NormalUser.__name__: 0.99, Disinformer.__name__: 0.01}\n",
    "n_edges = 3\n",
    "media_literacy_intervention = (0.2, SelectAgentsBy.RANDOM)\n",
    "ranking_intervention = False\n",
    "\n",
    "\n",
    "max_run_length = 60\n",
    "\n",
    "model = MisinfoModel(n_agents=n_agents,\n",
    "                     n_edges=n_edges,\n",
    "                     agent_ratio=agent_ratio,\n",
    "                     media_literacy_intervention=media_literacy_intervention,\n",
    "                     ranking_intervention=ranking_intervention)"
   ],
   "metadata": {
    "collapsed": false,
    "pycharm": {
     "name": "#%%\n"
    }
   }
  },
  {
   "cell_type": "code",
   "execution_count": 10,
   "outputs": [
    {
     "data": {
      "text/plain": "<Figure size 432x288 with 1 Axes>",
      "image/png": "[encoded data removed]"
     },
     "metadata": {},
     "output_type": "display_data"
    }
   ],
   "source": [
    "# Overview of the agents' belief distribution at the start\n",
    "data = [agent.beliefs[str(Topic.VAX)] for agent in model.schedule.agents]\n",
    "\n",
    "bins = np.linspace(math.ceil(min(data)),\n",
    "                   math.floor(max(data)),\n",
    "                   40)  # fixed number of bins\n",
    "\n",
    "plt.xlim([min(data) - 5, max(data) + 5])\n",
    "\n",
    "plt.hist(data, bins=bins, alpha=0.5)\n",
    "plt.title(f'Before. NormalUser: {agent_ratio[NormalUser.__name__]}%')\n",
    "plt.xlabel('Beliefs')\n",
    "plt.ylabel('Count')\n",
    "\n",
    "plt.show()"
   ],
   "metadata": {
    "collapsed": false,
    "pycharm": {
     "name": "#%%\n"
    }
   }
  },
  {
   "cell_type": "code",
   "execution_count": 11,
   "outputs": [
    {
     "name": "stdout",
     "output_type": "stream",
     "text": [
      "Starting\n",
      "step 0 done\n",
      "step 10 done\n",
      "step 20 done\n",
      "step 30 done\n",
      "step 40 done\n",
      "step 50 done\n",
      "With 60 steps, runtime is 26.41\n"
     ]
    }
   ],
   "source": [
    "print(f\"Starting\")\n",
    "start_time = time.time()\n",
    "for i in range(max_run_length):\n",
    "    model.step()\n",
    "    if i % 10 == 0:\n",
    "        print(f\"step {i} done\")\n",
    "\n",
    "run_time = round(time.time() - start_time, 2)\n",
    "print(f\"With {max_run_length} steps, runtime is {run_time}\")"
   ],
   "metadata": {
    "collapsed": false,
    "pycharm": {
     "name": "#%%\n"
    }
   }
  },
  {
   "cell_type": "code",
   "execution_count": 12,
   "outputs": [
    {
     "data": {
      "text/plain": "<Figure size 432x288 with 1 Axes>",
      "image/png": "[encoded data removed]"
     },
     "metadata": {},
     "output_type": "display_data"
    }
   ],
   "source": [
    "# Overview of the agents' belief distribution at the end\n",
    "data = [agent.beliefs[str(Topic.VAX)] for agent in model.schedule.agents]\n",
    "\n",
    "bins = np.linspace(math.ceil(min(data)),\n",
    "                   math.floor(max(data)),\n",
    "                   40)  # fixed number of bins\n",
    "\n",
    "plt.xlim([min(data) - 5, max(data) + 5])\n",
    "\n",
    "plt.hist(data, bins=bins, alpha=0.5)\n",
    "plt.title(f'After. NormalUser: {agent_ratio[NormalUser.__name__]}%')\n",
    "plt.xlabel('Beliefs')\n",
    "plt.ylabel('Count')\n",
    "\n",
    "plt.show()\n",
    "\n"
   ],
   "metadata": {
    "collapsed": false,
    "pycharm": {
     "name": "#%%\n"
    }
   }
  },
  {
   "cell_type": "code",
   "execution_count": 13,
   "outputs": [],
   "source": [
    "agent = model.schedule.agents[5]\n",
    "\n",
    "diffs = agent.differences\n",
    "diffs = np.array(diffs)\n",
    "# diffs"
   ],
   "metadata": {
    "collapsed": false,
    "pycharm": {
     "name": "#%%\n"
    }
   }
  },
  {
   "cell_type": "code",
   "execution_count": 14,
   "outputs": [
    {
     "name": "stderr",
     "output_type": "stream",
     "text": [
      "/Library/Frameworks/Python.framework/Versions/3.9/lib/python3.9/site-packages/seaborn/_decorators.py:36: FutureWarning: Pass the following variable as a keyword arg: x. From version 0.12, the only valid positional argument will be `data`, and passing other arguments without an explicit keyword will result in an error or misinterpretation.\n",
      "  warnings.warn(\n"
     ]
    },
    {
     "data": {
      "text/plain": "<AxesSubplot:>"
     },
     "execution_count": 14,
     "metadata": {},
     "output_type": "execute_result"
    },
    {
     "data": {
      "text/plain": "<Figure size 432x288 with 1 Axes>",
      "image/png": "[encoded data removed]"
     },
     "metadata": {},
     "output_type": "display_data"
    }
   ],
   "source": [
    "sns.set_theme(style=\"whitegrid\")\n",
    "sns.boxplot(diffs)"
   ],
   "metadata": {
    "collapsed": false,
    "pycharm": {
     "name": "#%%\n"
    }
   }
  },
  {
   "cell_type": "code",
   "execution_count": 14,
   "outputs": [],
   "source": [],
   "metadata": {
    "collapsed": false,
    "pycharm": {
     "name": "#%%\n"
    }
   }
  }
 ],
 "metadata": {
  "kernelspec": {
   "display_name": "Python 3",
   "language": "python",
   "name": "python3"
  },
  "language_info": {
   "codemirror_mode": {
    "name": "ipython",
    "version": 2
   },
   "file_extension": ".py",
   "mimetype": "text/x-python",
   "name": "python",
   "nbconvert_exporter": "python",
   "pygments_lexer": "ipython2",
   "version": "2.7.6"
  }
 },
 "nbformat": 4,
 "nbformat_minor": 0
}